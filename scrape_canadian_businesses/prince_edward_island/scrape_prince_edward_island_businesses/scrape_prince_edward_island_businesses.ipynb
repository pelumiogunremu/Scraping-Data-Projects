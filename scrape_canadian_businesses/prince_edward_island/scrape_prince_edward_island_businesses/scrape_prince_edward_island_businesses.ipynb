{
  "cells": [
    {
      "cell_type": "markdown",
      "source": [
        "## MODULES"
      ],
      "metadata": {
        "id": "Db4H1iJuVR0E"
      },
      "id": "Db4H1iJuVR0E"
    },
    {
      "cell_type": "code",
      "execution_count": null,
      "id": "4a871dcc",
      "metadata": {
        "id": "4a871dcc"
      },
      "outputs": [],
      "source": [
        "from scrape_businesses import *\n",
        "from scrape_canadian_businesses import extract_prin_bus"
      ]
    },
    {
      "cell_type": "markdown",
      "source": [
        "## EXTRACTION"
      ],
      "metadata": {
        "id": "c5b8eab1"
      },
      "id": "c5b8eab1"
    },
    {
      "cell_type": "code",
      "execution_count": null,
      "id": "12968188",
      "metadata": {
        "id": "12968188"
      },
      "outputs": [],
      "source": [
        "extract_prin_bus()"
      ]
    }
  ],
  "metadata": {
    "kernelspec": {
      "display_name": "Python 3",
      "language": "python",
      "name": "python3"
    },
    "language_info": {
      "codemirror_mode": {
        "name": "ipython",
        "version": 3
      },
      "file_extension": ".py",
      "mimetype": "text/x-python",
      "name": "python",
      "nbconvert_exporter": "python",
      "pygments_lexer": "ipython3",
      "version": "3.8.8"
    },
    "colab": {
      "name": "scrape_prince_edward_island_businesses.ipynb",
      "provenance": [],
      "collapsed_sections": []
    }
  },
  "nbformat": 4,
  "nbformat_minor": 5
}