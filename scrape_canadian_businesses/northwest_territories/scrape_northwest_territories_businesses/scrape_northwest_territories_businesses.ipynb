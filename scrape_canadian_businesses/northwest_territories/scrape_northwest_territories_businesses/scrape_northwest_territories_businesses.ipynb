{
  "cells": [
    {
      "cell_type": "markdown",
      "metadata": {
        "id": "ac5baf60"
      },
      "source": [
        "## MODULES"
      ]
    },
    {
      "cell_type": "code",
      "execution_count": null,
      "metadata": {
        "id": "wzmQ_sqvL4gK"
      },
      "outputs": [],
      "source": [
        "from scrape_businesses import *\n",
        "from scrape_canadian_businesses import extract_nw_bus"
      ]
    },
    {
      "cell_type": "markdown",
      "source": [
        "## EXTRACTION"
      ],
      "metadata": {
        "id": "JKN17QM1GxwB"
      }
    },
    {
      "cell_type": "code",
      "source": [
        "extract_nw_bus()"
      ],
      "metadata": {
        "id": "x6_KQtaTG11v"
      },
      "execution_count": null,
      "outputs": []
    }
  ],
  "metadata": {
    "colab": {
      "collapsed_sections": [],
      "name": "northwest_territories_businesses.ipynb",
      "provenance": []
    },
    "kernelspec": {
      "display_name": "Python 3",
      "name": "python3"
    },
    "language_info": {
      "name": "python"
    }
  },
  "nbformat": 4,
  "nbformat_minor": 0
}