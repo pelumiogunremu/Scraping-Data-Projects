{
 "cells": [
  {
   "cell_type": "markdown",
   "metadata": {
    "id": "ac5baf60"
   },
   "source": [
    "## MODULES"
   ]
  },
  {
   "cell_type": "code",
   "execution_count": null,
   "metadata": {
    "id": "wzmQ_sqvL4gK"
   },
   "outputs": [],
   "source": [
    "from scrape_businesses import *\n",
    "from scrape_canadian_businesses import extract_alb_bus"
   ]
  },
  {
   "cell_type": "markdown",
   "metadata": {
    "id": "JKN17QM1GxwB"
   },
   "source": [
    "## EXTRACTION"
   ]
  },
  {
   "cell_type": "code",
   "execution_count": null,
   "metadata": {
    "id": "x6_KQtaTG11v"
   },
   "outputs": [],
   "source": [
    "extract_alb_bus()"
   ]
  }
 ],
 "metadata": {
  "colab": {
   "collapsed_sections": [],
   "name": "alberta_businesses.ipynb",
   "provenance": []
  },
  "kernelspec": {
   "display_name": "Python 3",
   "language": "python",
   "name": "python3"
  },
  "language_info": {
   "codemirror_mode": {
    "name": "ipython",
    "version": 3
   },
   "file_extension": ".py",
   "mimetype": "text/x-python",
   "name": "python",
   "nbconvert_exporter": "python",
   "pygments_lexer": "ipython3",
   "version": "3.8.8"
  }
 },
 "nbformat": 4,
 "nbformat_minor": 1
}
