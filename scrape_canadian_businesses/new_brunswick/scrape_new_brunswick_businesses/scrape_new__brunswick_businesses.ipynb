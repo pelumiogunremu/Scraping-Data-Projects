{
  "nbformat": 4,
  "nbformat_minor": 0,
  "metadata": {
    "colab": {
      "name": "new_ brunswick_businesses.ipynb",
      "provenance": [],
      "collapsed_sections": []
    },
    "kernelspec": {
      "name": "python3",
      "display_name": "Python 3"
    },
    "language_info": {
      "name": "python"
    }
  },
  "cells": [
    {
      "cell_type": "markdown",
      "metadata": {
        "id": "ac5baf60"
      },
      "source": [
        "## MODULES"
      ]
    },
    {
      "cell_type": "code",
      "execution_count": null,
      "metadata": {
        "id": "wzmQ_sqvL4gK"
      },
      "outputs": [],
      "source": [
        "from scrape_businesses import *\n",
        "from scrape_canadian_businesses import extract_newb_bus"
      ]
    },
    {
      "cell_type": "markdown",
      "source": [
        "## EXTRACTION"
      ],
      "metadata": {
        "id": "JKN17QM1GxwB"
      }
    },
    {
      "cell_type": "code",
      "source": [
        "extract_newb_bus()"
      ],
      "metadata": {
        "id": "x6_KQtaTG11v"
      },
      "execution_count": null,
      "outputs": []
    }
  ]
}