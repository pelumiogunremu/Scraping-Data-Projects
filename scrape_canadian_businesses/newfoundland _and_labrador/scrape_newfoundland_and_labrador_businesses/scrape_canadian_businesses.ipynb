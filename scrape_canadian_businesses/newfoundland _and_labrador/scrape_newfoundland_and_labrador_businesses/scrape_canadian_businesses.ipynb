{
 "cells": [
  {
   "cell_type": "markdown",
   "metadata": {
    "id": "ac5baf60"
   },
   "source": [
    "## MODULE"
   ]
  },
  {
   "cell_type": "code",
   "execution_count": 1,
   "metadata": {
    "id": "uw_0tXkw5X1L"
   },
   "outputs": [],
   "source": [
    "from scrape_businesses import *"
   ]
  },
  {
   "cell_type": "markdown",
   "metadata": {
    "id": "EMB27PcLthz6"
   },
   "source": [
    "## FUNCTIONAL PROGRAMS"
   ]
  },
  {
   "cell_type": "markdown",
   "metadata": {
    "id": "x6NwiBAX83oN"
   },
   "source": [
    "#### ALBERTA BUSINESSES"
   ]
  },
  {
   "cell_type": "code",
   "execution_count": 2,
   "metadata": {
    "id": "ZheZC9rFtIm5"
   },
   "outputs": [],
   "source": [
    "def extract_alb_bus(index):\n",
    "  \"\"\"\n",
    "  extract alberta businesses by location.\n",
    "  check the location index in alberta_locations.csv.\n",
    "  \"\"\"\n",
    "  ca_url = \"https://www.yellowpages.ca/locations/\"\n",
    "  ca_prov, ca_prov_urls = get_tag_contents(\n",
    "      ca_url, \"h3\", \"a\", \"categories-title catTitle\")\n",
    "  \n",
    "  thread(get_tags_contents, ca_prov_urls)\n",
    "  ca_loc, ca_loc_urls = get_tags_contents(\n",
    "      ca_prov_urls, \"li\", \"a\", \"resp-list\")\n",
    "\n",
    "  return extract_bus(ca_loc[0][index], ca_loc_urls[0][index]) "
   ]
  },
  {
   "cell_type": "markdown",
   "metadata": {
    "id": "zCkhE7Qk9OaM"
   },
   "source": [
    "#### BRITISH COLUMBIA BUSINESSES"
   ]
  },
  {
   "cell_type": "code",
   "execution_count": 3,
   "metadata": {
    "id": "8oyWOgfm0TID"
   },
   "outputs": [],
   "source": [
    "def extract_bc_bus(index):\n",
    "  \"\"\"\n",
    "  extract british columbia businesses by location.\n",
    "  check the location index in british_columbia_locations.csv.\n",
    "  \"\"\"\n",
    "  ca_url = \"https://www.yellowpages.ca/locations/\"\n",
    "  ca_prov, ca_prov_urls = get_tag_contents(\n",
    "      ca_url, \"h3\", \"a\", \"categories-title catTitle\")\n",
    "  \n",
    "  thread(get_tags_contents, ca_prov_urls)\n",
    "  ca_loc, ca_loc_urls = get_tags_contents(\n",
    "      ca_prov_urls, \"li\", \"a\", \"resp-list\")\n",
    "\n",
    "  return extract_bus(ca_loc[1][index], ca_loc_urls[1][index])\n",
    "  "
   ]
  },
  {
   "cell_type": "markdown",
   "metadata": {
    "id": "771vorM19QMM"
   },
   "source": [
    "#### MANITOBA BUSINESSES"
   ]
  },
  {
   "cell_type": "code",
   "execution_count": 4,
   "metadata": {
    "id": "r-BKOQjz0TU8"
   },
   "outputs": [],
   "source": [
    "def extract_man_bus(index):\n",
    "  \"\"\"\n",
    "  extract manitoba businesses by location.\n",
    "  check the location index in manitoba_locations.csv.\n",
    "  \"\"\"\n",
    "  ca_url = \"https://www.yellowpages.ca/locations/\"\n",
    "  ca_prov, ca_prov_urls = get_tag_contents(\n",
    "      ca_url, \"h3\", \"a\", \"categories-title catTitle\")\n",
    "  \n",
    "  thread(get_tags_contents, ca_prov_urls)\n",
    "  ca_loc, ca_loc_urls = get_tags_contents(\n",
    "      ca_prov_urls, \"li\", \"a\", \"resp-list\")\n",
    "\n",
    "  return extract_bus(ca_loc[2][index], ca_loc_urls[2][index])"
   ]
  },
  {
   "cell_type": "markdown",
   "metadata": {
    "id": "ykR8SJ-M9RNc"
   },
   "source": [
    "#### NEW BRUNSWICK BUSINESSES"
   ]
  },
  {
   "cell_type": "code",
   "execution_count": 5,
   "metadata": {
    "id": "Jd23Y6n80Te7"
   },
   "outputs": [],
   "source": [
    "def extract_newb_bus(index):\n",
    "  \"\"\"\n",
    "  extract new brunswick businesses by location.\n",
    "  check the location index in new_brunswick_locations.csv.\n",
    "  \"\"\"\n",
    "  ca_url = \"https://www.yellowpages.ca/locations/\"\n",
    "  ca_prov, ca_prov_urls = get_tag_contents(\n",
    "      ca_url, \"h3\", \"a\", \"categories-title catTitle\")\n",
    "  \n",
    "  thread(get_tags_contents, ca_prov_urls)\n",
    "  ca_loc, ca_loc_urls = get_tags_contents(\n",
    "      ca_prov_urls, \"li\", \"a\", \"resp-list\")\n",
    "\n",
    "  return extract_bus(ca_loc[3][index], ca_loc_urls[3][index])\n",
    "  "
   ]
  },
  {
   "cell_type": "markdown",
   "metadata": {
    "id": "DErMVW_R9SHq"
   },
   "source": [
    "#### NEWFOUNDLAND AND LABRADOR BUSINESSES"
   ]
  },
  {
   "cell_type": "code",
   "execution_count": 6,
   "metadata": {
    "id": "qXBl-IMr0Tqr"
   },
   "outputs": [],
   "source": [
    "def extract_newfl_bus(index):\n",
    "  \"\"\"\n",
    "  extract newfoundland & labrador businesses at once or by location.\n",
    "  check the location index in newfoundland_labrador_locations.csv.\n",
    "  \"\"\"\n",
    "  ca_url = \"https://www.yellowpages.ca/locations/\"\n",
    "  ca_prov, ca_prov_urls = get_tag_contents(\n",
    "      ca_url, \"h3\", \"a\", \"categories-title catTitle\")\n",
    "  \n",
    "  thread(get_tags_contents, ca_prov_urls)\n",
    "  ca_loc, ca_loc_urls = get_tags_contents(\n",
    "      ca_prov_urls, \"li\", \"a\", \"resp-list\")\n",
    "\n",
    "  return extract_bus(ca_loc[4][index], ca_loc_urls[4][index])     "
   ]
  },
  {
   "cell_type": "markdown",
   "metadata": {
    "id": "2MgP1Kt-9Srd"
   },
   "source": [
    "#### NOVA SCOTIA BUSINESSES"
   ]
  },
  {
   "cell_type": "code",
   "execution_count": 7,
   "metadata": {
    "id": "7oZowzns0T2s"
   },
   "outputs": [],
   "source": [
    "def extract_ns_bus(index):\n",
    "  \"\"\"\n",
    "  extract nova scotia businesses by location.\n",
    "  check the location index in nova_scotia_locations.csv.\n",
    "  \"\"\"\n",
    "  ca_url = \"https://www.yellowpages.ca/locations/\"\n",
    "  ca_prov, ca_prov_urls = get_tag_contents(\n",
    "      ca_url, \"h3\", \"a\", \"categories-title catTitle\")\n",
    "  \n",
    "  thread(get_tags_contents, ca_prov_urls)\n",
    "  ca_loc, ca_loc_urls = get_tags_contents(\n",
    "      ca_prov_urls, \"li\", \"a\", \"resp-list\")\n",
    "\n",
    "  return extract_bus(ca_loc[5][index], ca_loc_urls[5][index])"
   ]
  },
  {
   "cell_type": "markdown",
   "metadata": {
    "id": "lsBa_C8R9TPV"
   },
   "source": [
    "#### NORTHWEST TERRITORIES BUSINESSES"
   ]
  },
  {
   "cell_type": "code",
   "execution_count": 8,
   "metadata": {
    "id": "yKnYA2uc0UG-"
   },
   "outputs": [],
   "source": [
    "def extract_nw_bus(index):\n",
    "  \"\"\"\n",
    "  extract northwest territories businesses by location.\n",
    "  check the location index in northwest_territories_locations.csv.\n",
    "  \"\"\"\n",
    "  ca_url = \"https://www.yellowpages.ca/locations/\"\n",
    "  ca_prov, ca_prov_urls = get_tag_contents(\n",
    "      ca_url, \"h3\", \"a\", \"categories-title catTitle\")\n",
    "  \n",
    "  thread(get_tags_contents, ca_prov_urls)\n",
    "  ca_loc, ca_loc_urls = get_tags_contents(\n",
    "      ca_prov_urls, \"li\", \"a\", \"resp-list\")\n",
    "\n",
    "  \n",
    "  return extract_bus(ca_loc[6][index], ca_loc_urls[6][index])    "
   ]
  },
  {
   "cell_type": "markdown",
   "metadata": {
    "id": "qIurKjgv9Tv6"
   },
   "source": [
    "#### NUNAVUT BUSINESSES"
   ]
  },
  {
   "cell_type": "code",
   "execution_count": 9,
   "metadata": {
    "id": "z8yOejXS0UR4"
   },
   "outputs": [],
   "source": [
    "def extract_nun_bus(index):\n",
    "  \"\"\"\n",
    "  extract nunavut businesses by location.\n",
    "  check the location index in nunavut_locations.csv.\n",
    "  \"\"\"\n",
    "  ca_url = \"https://www.yellowpages.ca/locations/\"\n",
    "  ca_prov, ca_prov_urls = get_tag_contents(\n",
    "      ca_url, \"h3\", \"a\", \"categories-title catTitle\")\n",
    "  \n",
    "  thread(get_tags_contents, ca_prov_urls)\n",
    "  ca_loc, ca_loc_urls = get_tags_contents(\n",
    "      ca_prov_urls, \"li\", \"a\", \"resp-list\")\n",
    "\n",
    "  return extract_bus(ca_loc[7][index], ca_loc_urls[7][index])"
   ]
  },
  {
   "cell_type": "markdown",
   "metadata": {
    "id": "KU_P2fKE9UUk"
   },
   "source": [
    "#### ONTARIO BUSINESSES"
   ]
  },
  {
   "cell_type": "code",
   "execution_count": 10,
   "metadata": {
    "id": "7aoH1fsW0Uft"
   },
   "outputs": [],
   "source": [
    "def extract_ont_bus(index):\n",
    "  \"\"\"\n",
    "  extract ontario businesses by location.\n",
    "  check the location index in ontario_locations.csv.\n",
    "  \"\"\"\n",
    "  ca_url = \"https://www.yellowpages.ca/locations/\"\n",
    "  ca_prov, ca_prov_urls = get_tag_contents(\n",
    "      ca_url, \"h3\", \"a\", \"categories-title catTitle\")\n",
    "  \n",
    "  thread(get_tags_contents, ca_prov_urls)\n",
    "  ca_loc, ca_loc_urls = get_tags_contents(\n",
    "      ca_prov_urls, \"li\", \"a\", \"resp-list\")\n",
    "\n",
    "  return extract_bus(ca_loc[8][index], ca_loc_urls[8][index])  "
   ]
  },
  {
   "cell_type": "markdown",
   "metadata": {
    "id": "LOPejTIU9U1w"
   },
   "source": [
    "#### PRINCE EDWARD ISLAND BUSINESSES"
   ]
  },
  {
   "cell_type": "code",
   "execution_count": 11,
   "metadata": {
    "id": "0DEogih20Uq8"
   },
   "outputs": [],
   "source": [
    "def extract_prin_bus(index):\n",
    "  \"\"\"\n",
    "  extract prince edward island businesses by location.\n",
    "  check the location index in prince_edward_island_locations.csv.\n",
    "  \"\"\"\n",
    "  ca_url = \"https://www.yellowpages.ca/locations/\"\n",
    "  ca_prov, ca_prov_urls = get_tag_contents(\n",
    "      ca_url, \"h3\", \"a\", \"categories-title catTitle\")\n",
    "  \n",
    "  thread(get_tags_contents, ca_prov_urls)\n",
    "  ca_loc, ca_loc_urls = get_tags_contents(\n",
    "      ca_prov_urls, \"li\", \"a\", \"resp-list\")\n",
    "\n",
    "  return extract_bus(ca_loc[9][index], ca_loc_urls[9][index])"
   ]
  },
  {
   "cell_type": "markdown",
   "metadata": {
    "id": "FnAdxXLB9VWF"
   },
   "source": [
    "#### QUEBEC BUSINESSES"
   ]
  },
  {
   "cell_type": "code",
   "execution_count": 12,
   "metadata": {
    "id": "O3uuDuhk0U2_"
   },
   "outputs": [],
   "source": [
    "def extract_que_bus(index):\n",
    "  \"\"\"\n",
    "  extract quebec businesses by location.\n",
    "  check the location index in quebec_locations.csv.\n",
    "  \"\"\"\n",
    "  ca_url = \"https://www.yellowpages.ca/locations/\"\n",
    "  ca_prov, ca_prov_urls = get_tag_contents(\n",
    "      ca_url, \"h3\", \"a\", \"categories-title catTitle\")\n",
    "  \n",
    "  thread(get_tags_contents, ca_prov_urls)\n",
    "  ca_loc, ca_loc_urls = get_tags_contents(\n",
    "      ca_prov_urls, \"li\", \"a\", \"resp-list\")\n",
    "\n",
    "  return extract_bus(ca_loc[10][index], ca_loc_urls[10][index])"
   ]
  },
  {
   "cell_type": "markdown",
   "metadata": {
    "id": "bk5iJowU9V2G"
   },
   "source": [
    "#### SASKATCHEWAN BUSINESSES"
   ]
  },
  {
   "cell_type": "code",
   "execution_count": 13,
   "metadata": {
    "id": "xmCmMQpb0VD2"
   },
   "outputs": [],
   "source": [
    "def extract_sas_bus(index):\n",
    "  \"\"\"\n",
    "  extract saskatchewan businesses by location.\n",
    "  check the location index in saskatchewan_locations.csv.\n",
    "  \"\"\"\n",
    "  ca_url = \"https://www.yellowpages.ca/locations/\"\n",
    "  ca_prov, ca_prov_urls = get_tag_contents(\n",
    "      ca_url, \"h3\", \"a\", \"categories-title catTitle\")\n",
    "  \n",
    "  thread(get_tags_contents, ca_prov_urls)\n",
    "  ca_loc, ca_loc_urls = get_tags_contents(\n",
    "      ca_prov_urls, \"li\", \"a\", \"resp-list\")\n",
    "\n",
    "  return extract_bus(ca_loc[11][index], ca_loc_urls[11][index])"
   ]
  },
  {
   "cell_type": "markdown",
   "metadata": {
    "id": "uHyDMAoE9Wfe"
   },
   "source": [
    "#### YUKON BUSINESSES"
   ]
  },
  {
   "cell_type": "code",
   "execution_count": 14,
   "metadata": {
    "id": "-tzKAwIk8g20"
   },
   "outputs": [],
   "source": [
    "def extract_yuk_bus(index):\n",
    "  \"\"\"\n",
    "  extract yukon businesses by location.\n",
    "  check the location index in yukon_locations.csv.\n",
    "  \"\"\"\n",
    "  ca_url = \"https://www.yellowpages.ca/locations/\"\n",
    "  ca_prov, ca_prov_urls = get_tag_contents(\n",
    "      ca_url, \"h3\", \"a\", \"categories-title catTitle\")\n",
    "  \n",
    "  thread(get_tags_contents, ca_prov_urls)\n",
    "  ca_loc, ca_loc_urls = get_tags_contents(\n",
    "      ca_prov_urls, \"li\", \"a\", \"resp-list\")\n",
    "\n",
    "  return extract_bus(ca_loc[12][index], ca_loc_urls[12][index])"
   ]
  }
 ],
 "metadata": {
  "colab": {
   "collapsed_sections": [],
   "name": "scrape_canadian_businesses.ipynb",
   "provenance": []
  },
  "kernelspec": {
   "display_name": "Python 3",
   "language": "python",
   "name": "python3"
  },
  "language_info": {
   "codemirror_mode": {
    "name": "ipython",
    "version": 3
   },
   "file_extension": ".py",
   "mimetype": "text/x-python",
   "name": "python",
   "nbconvert_exporter": "python",
   "pygments_lexer": "ipython3",
   "version": "3.8.8"
  }
 },
 "nbformat": 4,
 "nbformat_minor": 1
}
